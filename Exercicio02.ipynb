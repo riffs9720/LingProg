{
 "cells": [
  {
   "cell_type": "markdown",
   "metadata": {},
   "source": [
    "1 - Crie um programa que recebe uma lista de números e\n",
    "\n",
    "retorne o maior elemento\n",
    "retorne a soma dos elementos\n",
    "retorne o número de ocorrências do primeiro elemento da lista\n",
    "retorne a média dos elementos\n",
    "retorne o valor mais próximo da média dos elementos\n",
    "retorne a soma dos elementos com valor negativo\n",
    "retorne a quantidade de vizinhos iguais"
   ]
  },
  {
   "cell_type": "code",
   "execution_count": 1,
   "metadata": {},
   "outputs": [
    {
     "name": "stdout",
     "output_type": "stream",
     "text": [
      "O maior elemento é 4,\n",
      "A soma dos elementos é -19,\n",
      "O número de ocorrencias do primeiro elemento é 3 ,\n",
      "A média é -2 ,\n",
      "A média aproximada é -2.111111111111111 \n",
      "A soma dos valores negativos é -31\n"
     ]
    }
   ],
   "source": [
    "lista = [1,2,3,1,1,4,-7,-9,-15]\n",
    "\n",
    "maior_num = max(lista)\n",
    "soma_num = sum(lista)\n",
    "counter_num = lista.count(lista[0])\n",
    "media = sum(lista)/len(lista)\n",
    "mediaInt = int(media)\n",
    "\n",
    "ordernacao = lista.sort()\n",
    "\n",
    "lista_2 = []\n",
    "\n",
    "for indice, valor in enumerate(lista):\n",
    "    if valor < 0:\n",
    "        lista_2 = lista_2 + [valor]\n",
    "lista_2 = sum(lista_2)\n",
    "\n",
    "\n",
    "print('O maior elemento é {},\\nA soma dos elementos é {},\\nO número de ocorrencias do primeiro elemento é {} ,\\nA média é {} ,\\nA média aproximada é {} \\nA soma dos valores negativos é {}'.format(maior_num, soma_num, counter_num, mediaInt, media, lista_2))"
   ]
  },
  {
   "cell_type": "markdown",
   "metadata": {},
   "source": [
    "2 - Faça um programa que receba duas listas e retorne True se são iguais ou False caso contrario. Duas listas são iguais se possuem os mesmos valores e na mesma ordem."
   ]
  },
  {
   "cell_type": "code",
   "execution_count": null,
   "metadata": {},
   "outputs": [],
   "source": [
    "lista_1 = [1,2,3,4,5]\n",
    "lista_2 = [2,3,4,5,6]\n",
    "lista_3 = [int(x) for x in input().split()]\n",
    "lista_4 = [int(x) for x in input().split()]\n",
    "\n",
    "comparacao1 = lista_1 == lista_2\n",
    "comparacao2 = lista_3 == lista_4\n",
    "\n",
    "print(f\"Comparação da Lista 1 com a Lista 2 é =\", comparacao1)\n",
    "print(f\"Comparação da Lista 3 com a Lista 4 é =\", comparacao2)"
   ]
  },
  {
   "cell_type": "markdown",
   "metadata": {},
   "source": [
    "3 - Faça um programa que receba duas listas e retorne True se têm os mesmos elementos ou False caso contrário Duas listas possuem os mesmos elementos quando são compostas pelos mesmos valores, mas não obrigatoriamente na mesma ordem."
   ]
  },
  {
   "cell_type": "code",
   "execution_count": 2,
   "metadata": {},
   "outputs": [
    {
     "name": "stdout",
     "output_type": "stream",
     "text": [
      "True\n"
     ]
    }
   ],
   "source": [
    "lista_1 = ['banana','abacaxi', 'pera']\n",
    "lista_2 = ['pera', 'banana', 'abacaxi']\n",
    "\n",
    "lista_1.sort()\n",
    "lista_2.sort()\n",
    "\n",
    "comparacao = lista_1 == lista_2\n",
    "\n",
    "print(comparacao)"
   ]
  },
  {
   "cell_type": "markdown",
   "metadata": {},
   "source": [
    "4 Faça um programa que percorre uma lista com o seguinte formato: [['Brasil', 'Italia', [10, 9]], ['Brasil', 'Espanha', [5, 7]], ['Italia', 'Espanha', [7,8]]]. Essa lista indica o número de faltas que cada time fez em cada jogo. Na lista acima, no jogo entre Brasil e Itália, o Brasil fez 10 faltas e a Itália fez 9. O programa deve imprimir na tela:\n",
    "\n",
    "o total de faltas do campeonato\n",
    "o time que fez mais faltas\n",
    "o time que fez menos faltas"
   ]
  },
  {
   "cell_type": "code",
   "execution_count": 3,
   "metadata": {},
   "outputs": [
    {
     "name": "stdout",
     "output_type": "stream",
     "text": [
      "O time com mais faltas:('Italia', 16) \n",
      "O time com menos faltas:('Brasil', 15) \n",
      "\n"
     ]
    }
   ],
   "source": [
    "jogo_1 = ['Brasil', 'Italia', [10,9]]\n",
    "jogo_2 = ['Brasil', 'Espanha', [5,7]]\n",
    "jogo_3 = ['Italia', 'Espanha', [7,8]]\n",
    "\n",
    "faltas_total = sum(jogo_1[2] + jogo_2[2] + jogo_3[2])\n",
    "\n",
    "\n",
    "falta_brasil = jogo_1[2][0] + jogo_2[2][0]\n",
    "falta_italia = jogo_1[2][1] + jogo_3[2][0]\n",
    "falta_espanha =  jogo_2[2][1] + jogo_3[2][1]\n",
    "\n",
    "\n",
    "faltas = {\n",
    "    'Brasil': falta_brasil,\n",
    "    'Italia': falta_italia,\n",
    "    'Espanha': falta_espanha\n",
    "}\n",
    "\n",
    "mais_faltas = max(faltas.items())\n",
    "menos_faltas = min(faltas.items())\n",
    "\n",
    "\n",
    "print('O time com mais faltas:{} \\nO time com menos faltas:{} \\n'.format(mais_faltas, menos_faltas))"
   ]
  },
  {
   "cell_type": "markdown",
   "metadata": {},
   "source": [
    "5 Escreva um programa que conta a quantidade de vogais em uma string e armazena tal quantidade em um dicionário, onde a chave é a vogal considerada."
   ]
  },
  {
   "cell_type": "code",
   "execution_count": 5,
   "metadata": {},
   "outputs": [
    {
     "name": "stdout",
     "output_type": "stream",
     "text": [
      "Escreva algo: ricardo\n",
      "{'A': 1, 'I': 1, 'O': 1}\n"
     ]
    }
   ],
   "source": [
    "string = input('Escreva algo: ')\n",
    "\n",
    "dic={}\n",
    "smaior= string.upper()\n",
    "if (\"A\" in smaior):\n",
    "    dic['A']=smaior.count(\"A\")\n",
    "if (\"E\" in smaior):\n",
    "    dic['E']=smaior.count(\"E\")\n",
    "if (\"I\" in smaior):\n",
    "    dic['I']=smaior.count(\"I\")\n",
    "if (\"O\" in smaior):\n",
    "    dic['O']=smaior.count(\"O\")\n",
    "if (\"U\" in smaior):\n",
    "    dic['U']=smaior.count(\"U\")\n",
    "print(dic)"
   ]
  },
  {
   "cell_type": "code",
   "execution_count": null,
   "metadata": {},
   "outputs": [],
   "source": []
  }
 ],
 "metadata": {
  "kernelspec": {
   "display_name": "Python 3",
   "language": "python",
   "name": "python3"
  },
  "language_info": {
   "codemirror_mode": {
    "name": "ipython",
    "version": 3
   },
   "file_extension": ".py",
   "mimetype": "text/x-python",
   "name": "python",
   "nbconvert_exporter": "python",
   "pygments_lexer": "ipython3",
   "version": "3.6.5"
  }
 },
 "nbformat": 4,
 "nbformat_minor": 2
}
