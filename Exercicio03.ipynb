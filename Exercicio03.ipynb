{
 "cells": [
  {
   "cell_type": "markdown",
   "metadata": {},
   "source": [
    "1. Faça um Programa que peça dois números e imprima o maior\n",
    "deles."
   ]
  },
  {
   "cell_type": "code",
   "execution_count": 51,
   "metadata": {},
   "outputs": [
    {
     "name": "stdout",
     "output_type": "stream",
     "text": [
      "Digite o primeiro valor3\n",
      "Digite o segundo valor1\n",
      "O maior valor é:  3\n"
     ]
    }
   ],
   "source": [
    "valor1 = input(\"Digite o primeiro valor\")\n",
    "valor2 = input(\"Digite o segundo valor\")\n",
    "\n",
    "if(valor1 > valor2):\n",
    "    print(f\"O maior valor é:  {valor1}\")\n",
    "else:\n",
    "    print(f\"O maior valor é:  {valor2}\")"
   ]
  },
  {
   "cell_type": "markdown",
   "metadata": {},
   "source": [
    "3. Faça um programa para a leitura de duas notas parciais de um\n",
    "aluno. O programa deve calcular a média alcançada por aluno e\n",
    "apresentar:\n",
    "- A mensagem \"Aprovado\", se a média alcançada for maior ou igual\n",
    "a sete;\n",
    "- A mensagem \"Reprovado\", se a média for menor do que sete;\n",
    "- A mensagem \"Aprovado com Distinção\", se a média for igual a\n",
    "dez."
   ]
  },
  {
   "cell_type": "code",
   "execution_count": 37,
   "metadata": {},
   "outputs": [
    {
     "name": "stdout",
     "output_type": "stream",
     "text": [
      "Digite a primeira nota1\n",
      "Digite a segunda nota5\n",
      "Reprovado\n"
     ]
    }
   ],
   "source": [
    "nota1 = float(input(\"Digite a primeira nota\"))\n",
    "nota2 = float(input(\"Digite a segunda nota\"))\n",
    "\n",
    "media = (nota1 + nota2) / 2.0\n",
    "\n",
    "if media >= 7 and media != 10:\n",
    "    print(\"Aprovado\")\n",
    "elif media == 10:\n",
    "    print(\"Aprovado com Distinção\")\n",
    "else:\n",
    "    print(\"Reprovado\")\n",
    "    \n",
    "\n"
   ]
  },
  {
   "cell_type": "markdown",
   "metadata": {},
   "source": [
    "5. As Organizações Tabajara resolveram dar um aumento de salário\n",
    "aos seus colaboradores e lhe contrataram para desenvolver o\n",
    "programa que calculará os reajustes.\n",
    "Faça um programa que recebe o salário de um colaborador e o\n",
    "reajuste segundo o seguinte critério, baseado no salário atual:\n",
    "- salários até R$ 280,00 (incluindo) : aumento de 20%\n",
    "- salários entre R$ 280,00 e R$ 700,00 : aumento de 15%\n",
    "- salários entre R$ 700,00 e R$ 1500,00 : aumento de 10%\n",
    "- salários de R$ 1500,00 em diante : aumento de 5% Após o\n",
    "aumento ser realizado, informe na tela:\n",
    "- o salário antes do reajuste;\n",
    "- o percentual de aumento aplicado;\n",
    "- o valor do aumento;\n",
    "- o novo salário, após o aumento"
   ]
  },
  {
   "cell_type": "code",
   "execution_count": 61,
   "metadata": {},
   "outputs": [
    {
     "name": "stdout",
     "output_type": "stream",
     "text": [
      "Digite o valor do salario1501\n",
      "O salario antes do aumento era: 1501.0\n",
      "O percentual de aumento aplicado foi: 5%\n",
      "O valor do aumento foi: 75.05\n",
      "Salario apos o aumento: 1576.05\n"
     ]
    }
   ],
   "source": [
    "salario_sem_reajuste = float(input(\"Digite o valor do salario\"))\n",
    "\n",
    "if salario_sem_reajuste <= 280:\n",
    "    valor_do_aumento = salario_sem_reajuste * 0.2\n",
    "    salario_reajustado = salario_sem_reajuste + valor_do_aumento\n",
    "    percentual_de_aumento = \"20%\"\n",
    "elif salario_sem_reajuste > 280 and salario_sem_reajuste <= 700:\n",
    "    valor_do_aumento = salario_sem_reajuste * 0.15\n",
    "    salario_reajustado = salario_sem_reajuste + valor_do_aumento\n",
    "    percentual_de_aumento = \"15%\"\n",
    "elif salario_sem_reajuste > 700 and salario_sem_reajuste <= 1500:\n",
    "    valor_do_aumento = salario_sem_reajuste * 0.10\n",
    "    salario_reajustado = salario_sem_reajuste + valor_do_aumento\n",
    "    percentual_de_aumento = \"10%\"\n",
    "else:\n",
    "    valor_do_aumento = salario_sem_reajuste * 0.05\n",
    "    salario_reajustado = salario_sem_reajuste + valor_do_aumento\n",
    "    percentual_de_aumento = \"5%\"\n",
    "\n",
    "print (f\"O salario antes do aumento era: {salario_sem_reajuste}\" \n",
    "       f\"\\nO percentual de aumento aplicado foi: {percentual_de_aumento}\" \n",
    "      f\"\\nO valor do aumento foi: {valor_do_aumento}\" \n",
    "      f\"\\nSalario apos o aumento: {salario_reajustado}\")"
   ]
  },
  {
   "cell_type": "markdown",
   "metadata": {},
   "source": [
    "7. Faça um programa que lê as duas notas parciais obtidas por um\n",
    "aluno numa disciplina ao longo de um semestre, e calcule a sua\n",
    "média. A atribuição de conceitos obedece à tabela abaixo:\n",
    " Média de Aproveitamento Conceito\n",
    " Entre 9.0 e 10.0 A\n",
    " Entre 7.5 e 9.0 B\n",
    " Entre 6.0 e 7.5 C\n",
    " Entre 4.0 e 6.0 D\n",
    " Entre 4.0 e zero E\n",
    "O algoritmo deve mostrar na tela as notas, a média, o conceito\n",
    "correspondente e a mensagem “APROVADO” se o conceito for A, B\n",
    "ou C ou “REPROVADO” se o conceito for D ou E.\n"
   ]
  },
  {
   "cell_type": "code",
   "execution_count": 78,
   "metadata": {},
   "outputs": [
    {
     "name": "stdout",
     "output_type": "stream",
     "text": [
      "Digite a primeira nota3\n",
      "Digite a segunda nota3\n",
      "A primeira nota foi: 3.0\n",
      "A segunda nota foi: 3.0\n",
      "A media foi: 3.0\n",
      "O conceito foi: E\n",
      "Status do aluno: Reprovado\n"
     ]
    }
   ],
   "source": [
    "nota1 = float(input(\"Digite a primeira nota\"))\n",
    "nota2 = float(input(\"Digite a segunda nota\"))\n",
    "\n",
    "media = (nota1 + nota2) / 2\n",
    "\n",
    "if media >= 9 and media <= 10:\n",
    "    conceito = \"A\"\n",
    "elif media >= 7.5 and media < 9:\n",
    "    conceito = \"B\"\n",
    "elif media >= 6 and media < 7.5:\n",
    "    conceito = \"C\"\n",
    "elif media >=4 and media < 6:\n",
    "    conceito = \"D\"\n",
    "else:\n",
    "    conceito = \"E\"\n",
    "\n",
    "if conceito == \"A\" or conceito == \"B\" or conceito == \"C\":\n",
    "    status = \"Aprovado\"\n",
    "else:\n",
    "    status = \"Reprovado\"\n",
    "print(f\"A primeira nota foi: {nota1}\"\n",
    "     f\"\\nA segunda nota foi: {nota2}\"\n",
    "     f\"\\nA media foi: {media}\"\n",
    "     f\"\\nO conceito foi: {conceito}\"\n",
    "     f\"\\nStatus do aluno: {status}\")"
   ]
  },
  {
   "cell_type": "markdown",
   "metadata": {},
   "source": [
    "9. Faça um programa que calcule as raízes de uma equação do\n",
    "segundo grau, na forma ax2 + bx + c. O programa deverá pedir os\n",
    "valores de a, b e c e fazer as consistências, informando ao usuário\n",
    "nas seguintes situações:\n",
    "- Se o usuário informar o valor de A igual a zero, a equação não é do\n",
    "segundo grau e o programa não deve fazer pedir os demais valores,\n",
    "sendo encerrado;\n",
    "- Se o delta calculado for negativo, a equação não possui raizes\n",
    "reais. Informe ao usuário e encerre o programa;\n",
    "- Se o delta calculado for igual a zero a equação possui apenas uma\n",
    "raiz real; informe-a ao usuário;\n",
    "- Se o delta for positivo, a equação possui duas raiz reais; informeas\n",
    "ao usuário;"
   ]
  },
  {
   "cell_type": "code",
   "execution_count": 89,
   "metadata": {},
   "outputs": [
    {
     "name": "stdout",
     "output_type": "stream",
     "text": [
      "Digite o valor do termo a1\n",
      "Digite o valor do termo b-5\n",
      "Digite o valor do termo b6\n",
      "A equação possui duas raizes reais que são: 0.5 e 2.0\n"
     ]
    }
   ],
   "source": [
    "import math\n",
    "\n",
    "a = int(input(\"Digite o valor do termo a\"))\n",
    "if a == 0:\n",
    "    print(\"Não é uma equação do segundo grau\")\n",
    "else:\n",
    "    b = int(input(\"Digite o valor do termo b\"))\n",
    "    c = int(input(\"Digite o valor do termo b\"))\n",
    "    \n",
    "    delta = (math.pow(b,2) - (4*a*c))\n",
    "    if delta < 0:\n",
    "        print(\"A equação não possui raizes reais\")\n",
    "    elif delta == 0:\n",
    "        raiz = ((-1) * b + math.sqrt(delta)) / (2 * a)\n",
    "        print(f\"A equação possui apenas uma raiz real que é: {raiz}\")\n",
    "    else:\n",
    "        raiz1 = ((-1) * b + math.sqrt(delta)) / (2 * a)\n",
    "        raiz2 = ((-1) * b - math.sqrt(delta)) / (2 * a)\n",
    "        print(f\"A equação possui duas raizes reais que são: {raiz} e {raiz2}\")\n",
    "        "
   ]
  },
  {
   "cell_type": "markdown",
   "metadata": {},
   "source": [
    "11. Faça um programa que faça 5 perguntas para uma pessoa\n",
    "sobre um crime. As perguntas são:\n",
    "\"Telefonou para a vítima?\"\n",
    "\"Esteve no local do crime?\"\n",
    "\"Mora perto da vítima?\"\n",
    "\"Devia para a vítima?\"\n",
    "\"Já trabalhou com a vítima?\"\n",
    "O programa deve no fnal emitir uma classifcação sobre a\n",
    "participação da pessoa no crime. Se a pessoa responder\n",
    "positivamente a 2 questões ela deve ser classifcada como\n",
    "\"Suspeita\", entre 3 e 4 como \"Cúmplice\" e 5 como \"Assassino\". Caso\n",
    "contrário, ele será classifcado como \"Inocente\".\n"
   ]
  },
  {
   "cell_type": "code",
   "execution_count": 97,
   "metadata": {},
   "outputs": [
    {
     "name": "stdout",
     "output_type": "stream",
     "text": [
      "Telefonou para a vítima?\n",
      "sim\n",
      "Esteve no local do crime?\n",
      "sim\n",
      "Mora perto da vítima?\n",
      "sim\n",
      "Devia para a vítima?\n",
      "sim\n",
      "Já trabalhou com a vítima?\n",
      "sim\n",
      "Assassino\n"
     ]
    }
   ],
   "source": [
    "pegunta1 = print(\"Telefonou para a vítima?\")\n",
    "resposta1 = input()\n",
    "nao = 0\n",
    "sim = 0\n",
    "if resposta1 == \"nao\":\n",
    "    nao = nao + 1\n",
    "else:\n",
    "    sim = sim + 1\n",
    "pergunta2 = print(\"Esteve no local do crime?\")\n",
    "resposta2 = input()\n",
    "if resposta2 == \"nao\":\n",
    "    nao = nao + 1\n",
    "else:\n",
    "    sim = sim + 1\n",
    "pergunta3 = print(\"Mora perto da vítima?\")\n",
    "resposta3 = input()\n",
    "if resposta3 == \"nao\":\n",
    "    nao = nao + 1\n",
    "else:\n",
    "    sim = sim + 1\n",
    "pergunta4 = print(\"Devia para a vítima?\")\n",
    "resposta4 = input()\n",
    "if resposta4 == \"nao\":\n",
    "    nao = nao + 1\n",
    "else:\n",
    "    sim = sim + 1\n",
    "pergunta5 = print(\"Já trabalhou com a vítima?\")\n",
    "resposta5 = input()\n",
    "if resposta5 == \"nao\":\n",
    "    nao = nao + 1\n",
    "else:\n",
    "    sim = sim + 1\n",
    "    \n",
    "if sim == 2:\n",
    "    print(\"Suspeito\")\n",
    "elif sim >= 3 and sim <=4:\n",
    "    print(\"Cumplice\")\n",
    "elif sim == 5:\n",
    "    print(\"Assassino\")\n",
    "else:\n",
    "    print(\"Inocente\")\n"
   ]
  },
  {
   "cell_type": "markdown",
   "metadata": {},
   "source": [
    "13 . Faça um programa que peça uma nota, entre zero e dez. Mostre uma mensagem caso o valor seja inválido e continue pedindo até que o usuário informe um valor válido."
   ]
  },
  {
   "cell_type": "code",
   "execution_count": null,
   "metadata": {},
   "outputs": [],
   "source": [
    "nota = float(input(\"Digite a nota entre 0 e 10\"))\n",
    "while nota < 0 or nota > 10:\n",
    "    print(\"O valor digitado é invalido\")\n",
    "    nota = float(input(\"Digite a nota entre 0 e 10\"))\n",
    "else:\n",
    "    print(\"Valor digitado é válido\")"
   ]
  },
  {
   "cell_type": "markdown",
   "metadata": {},
   "source": [
    "14. Faça um programa que leia 5 números e informe o maior\n",
    "número."
   ]
  },
  {
   "cell_type": "code",
   "execution_count": null,
   "metadata": {},
   "outputs": [],
   "source": [
    "numeros = [float(input(\"Número: \")) for i in range(5)]\n",
    "\n",
    "print(f\"Maior número foi {max(numeros)}\")"
   ]
  },
  {
   "cell_type": "markdown",
   "metadata": {},
   "source": [
    "16 . Faça um programa que imprima na tela apenas os números ímpares entre 1 e 50."
   ]
  },
  {
   "cell_type": "code",
   "execution_count": null,
   "metadata": {},
   "outputs": [],
   "source": [
    "for i in range(1,50,2):\n",
    "    print (i)"
   ]
  },
  {
   "cell_type": "markdown",
   "metadata": {},
   "source": [
    "17. Desenvolva um gerador de tabuada, capaz de gerar a tabuada\n",
    "de qualquer número inteiro entre 1 a 10. O usuário deve informar\n",
    "de qual numero ele deseja ver a tabuada. A saída deve ser\n",
    "conforme o exemplo abaixo:\n",
    "Tabuada de 5:\n",
    "5 X 1 = 5\n",
    "5 X 2 = 10\n",
    "...\n",
    "5 X 10 = 50\n"
   ]
  },
  {
   "cell_type": "code",
   "execution_count": 5,
   "metadata": {},
   "outputs": [
    {
     "name": "stdout",
     "output_type": "stream",
     "text": [
      "Entre com um número para saber a tabuada: 5\n",
      "******************\n",
      "Tabuada de 5\n",
      "******************\n",
      "0 X 5 = 0\n",
      "1 X 5 = 5\n",
      "2 X 5 = 10\n",
      "3 X 5 = 15\n",
      "4 X 5 = 20\n",
      "5 X 5 = 25\n",
      "6 X 5 = 30\n",
      "7 X 5 = 35\n",
      "8 X 5 = 40\n",
      "9 X 5 = 45\n",
      "10 X 5 = 50\n"
     ]
    }
   ],
   "source": [
    "valor = int(input('Entre com um número para saber a tabuada: '))  \n",
    "aux = 0  \n",
    "print('*' * 18)  \n",
    "print('Tabuada de {}'.format(valor))  \n",
    "print('*' * 18)  \n",
    "while(aux <= 10):  \n",
    "  print('{0} X {1} = {2}'.format(aux, valor, (aux * valor)))  \n",
    "  aux = aux + 1 "
   ]
  },
  {
   "cell_type": "markdown",
   "metadata": {},
   "source": [
    "18. A série de Fibonacci é formada pela seqüência\n",
    "1,1,2,3,5,8,13,21,34,55,... Faça um programa capaz de gerar a série\n",
    "até o n−ésimo termo."
   ]
  },
  {
   "cell_type": "code",
   "execution_count": null,
   "metadata": {},
   "outputs": [],
   "source": [
    "fibo = [1,1]\n",
    "i = 0\n",
    "num = int(input(\"Entre com um número: \"))\n",
    "\n",
    "while num > len(fibo):\n",
    "\tfibo.append(fibo[i] + fibo[i+1])\n",
    "\ti+=1\n",
    "\n",
    "print ('Fibonacci(%d): %d' %(num,fibo[num-1]))"
   ]
  },
  {
   "cell_type": "markdown",
   "metadata": {},
   "source": [
    "20 . O Sr. Manoel Joaquim possui uma grande loja de artigos de RS 1,99, com cerca de 10 caixas. Para agilizar o cálculo de quanto cada cliente deve pagar ele desenvolveu um tabela que contém o número de itens que o cliente comprou e ao lado o valor da conta. Desta forma a atendente do caixa precisa apenas contar quantos itens o cliente está levando e olhar na tabela de preços. Você foi contratado para desenvolver o programa que monta esta tabela de preços, que conterá os preços de 1 até 50 produtos, conforme o exemplo abaixo: Lojas Quase Dois - Tabela de preços 1 - RS 1.99 2 - RS 3.98 ... 50 - RS 99.50"
   ]
  },
  {
   "cell_type": "code",
   "execution_count": null,
   "metadata": {},
   "outputs": [],
   "source": [
    "for i in range(1,51):\n",
    "    print (i, \"- R$\", i*1.99)"
   ]
  },
  {
   "cell_type": "markdown",
   "metadata": {},
   "source": [
    "22 . O Sr. Manoel Joaquim expandiu seus negócios para além dos negócios de 1,99 e agora possui uma loja de conveniências. Faça um programa que implemente uma caixa registradora rudimentar. O programa deverá receber um número desconhecido de valores referentes aos preços das mercadorias. Um valor zero deve ser informado pelo operador para indicar o fnal da compra. O programa deve então mostrar o total da compra e perguntar o valor em dinheiro que o cliente forneceu, para então calcular e mostrar o valor do troco. Após esta operação, o programa deverá voltar ao ponto inicial, para registrar a próxima compra. A saída deve ser conforme o exemplo abaixo: Lojas Tabajara Produto 1: RS 2.20 Produto 2: RS 5.80 Produto 3: RS 0 Total: RS 9.00 Dinheiro: RS 20.00 Troco: RS 11.00 ..."
   ]
  },
  {
   "cell_type": "code",
   "execution_count": null,
   "metadata": {},
   "outputs": [],
   "source": [
    "prod = []\n",
    "num = 1\n",
    "while True:\n",
    "    preco = float(input(f\"Digite o preço do Produto {num}: R$\"))\n",
    "    if preco > 0:\n",
    "        num += 1\n",
    "        prod.append(preco)\n",
    "    else:\n",
    "        print(\"Teste\")\n",
    "        break\n",
    "#print(prod)\n",
    "print(\"O total da compra foi: R$\",sum(prod))\n",
    "pag = float(input(\"Digite a quantia de dinheiro que irá usar para pagar. R$\"))\n",
    "print(\"Troco da compra será: R$\", pag-sum(prod))"
   ]
  },
  {
   "cell_type": "markdown",
   "metadata": {},
   "source": [
    "24. Faça um programa que receba o valor de uma dívida e mostre\n",
    "uma tabela com os seguintes dados: valor da dívida, valor dos juros,\n",
    "quantidade de parcelas e valor da parcela.\n",
    "Os juros e a quantidade de parcelas seguem a tabela abaixo:\n",
    "Quantidade de Parcelas    -   % de Juros sobre o valor inicial da dívida\n",
    "1                                          0\n",
    "3                                          10\n",
    "6                                          15\n",
    "9                                          20\n",
    "12                                         25\n",
    "Exemplo de saída do programa:\n",
    "Valor da Dívida Valor dos Juros Quantidade de Parcelas Valor da Parcela\n",
    "R$ 1.000,00 0 1 R$ 1.000,00\n",
    "R$ 1.100,00 100 3 R$ 366,00\n",
    "R$ 1.150,00 150 6 R$ 191,67"
   ]
  },
  {
   "cell_type": "code",
   "execution_count": null,
   "metadata": {},
   "outputs": [],
   "source": []
  }
 ],
 "metadata": {
  "kernelspec": {
   "display_name": "Python 3",
   "language": "python",
   "name": "python3"
  }
 },
 "nbformat": 4,
 "nbformat_minor": 2
}
