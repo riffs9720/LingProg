{
 "cells": [
  {
   "cell_type": "markdown",
   "metadata": {},
   "source": [
    "1)Faça um Programa que peça o raio de um círculo, calcule e mostre sua área."
   ]
  },
  {
   "cell_type": "code",
   "execution_count": null,
   "metadata": {},
   "outputs": [],
   "source": [
    "valor = input(\"Digite o valor do raio: \")\n",
    "pi = 3.14\n",
    "area = pi * (int(valor)**2)\n",
    "print(area)"
   ]
  },
  {
   "cell_type": "markdown",
   "metadata": {},
   "source": [
    "2)Faça um Programa que calcule a área de um quadrado, em seguida mostre o dobro desta área para o usuário."
   ]
  },
  {
   "cell_type": "code",
   "execution_count": null,
   "metadata": {},
   "outputs": [],
   "source": [
    "lado = input(\"Digite o valor do lado do quadrado: \")\n",
    "area = (int(valor)*int(valor))*2"
   ]
  },
  {
   "cell_type": "markdown",
   "metadata": {},
   "source": [
    "3)Faça um Programa que pergunte quanto você ganha por hora e o número de horas trabalhadas no mês. Calcule e mostre o total do seu salário no referido mês."
   ]
  },
  {
   "cell_type": "code",
   "execution_count": null,
   "metadata": {},
   "outputs": [],
   "source": [
    "valorHora = input(\"Digite o valor do seu salario por hora: \")\n",
    "horasTrabalhadas = (\"Digite quantas horas foram trabalhadas no mes: \")\n",
    "salario = float(valorHora) * int(horasTrabalhadas)\n",
    "print(\"Voce ganhou R$\", salario, \"este mes\")"
   ]
  },
  {
   "cell_type": "markdown",
   "metadata": {},
   "source": [
    "4)Faça um Programa que peça a temperatura em graus Farenheit, transforme e mostre a temperatura em graus Celsius. C = (5 * (F- 328 / 98."
   ]
  },
  {
   "cell_type": "code",
   "execution_count": null,
   "metadata": {},
   "outputs": [],
   "source": [
    "farenheint = input(\"Digite a temperatura em Farenheit (°F)\")\n",
    "celsius = (int(farenheit) - 32) / 1.8\n",
    "print(\"A temperatura convertida em Celsius é de \", celsius, \"°C\")"
   ]
  },
  {
   "cell_type": "markdown",
   "metadata": {},
   "source": [
    "5)Faça um Programa que peça a temperatura em graus Celsius, transforme e mostre em graus Farenheit."
   ]
  },
  {
   "cell_type": "code",
   "execution_count": null,
   "metadata": {},
   "outputs": [],
   "source": [
    "celsius = input(\"Digite a temperatura em Celsius (°C)\")\n",
    "farenheit = (int(celsius) * 1.8) + 32\n",
    "print(\"A temperatura convertida em Farenheit é de \", farenheit, \"°F\") "
   ]
  },
  {
   "cell_type": "markdown",
   "metadata": {},
   "source": [
    "6)Faça um Programa que peça 2 números inteiros e um número real. Calcule e mostre:\n",
    "\n",
    "O produto do dobro do primeiro com metade do segundo . \n",
    "A soma do triplo do primeiro com o terceiro. \n",
    "O terceiro elevado ao cubo."
   ]
  },
  {
   "cell_type": "code",
   "execution_count": null,
   "metadata": {},
   "outputs": [],
   "source": [
    "valor1 = input(\"Digite o primeiro numero inteiro\")\n",
    "valor2 = input(\"Digire o segundo numero inteiro\")\n",
    "valor3 = input(\"Digite o numero real\")\n",
    "\n",
    "result1 = (int(valor1)*2) + (int(valor2) / 2)\n",
    "result2 = (int(valor1)*3) + float(valor3)\n",
    "result3 = float(valor3)**3\n",
    "\n",
    "print(\"O produto do dobro do primeiro com metado do segundo é:\", result1)\n",
    "print(\"A soma do triplo do primeiro com o terceiro é:\", result2)\n",
    "print(\"O terceiro elevado ao cubo é:\", valor3)"
   ]
  },
  {
   "cell_type": "markdown",
   "metadata": {},
   "source": [
    "7)João Papo-de-Pescador, homem de bem, comprou um microcomputador para controlar o rendimento diário de seu trabalho. Toda vez que ele traz um peso de peixes maior que o estabelecido pelo regulamento de pesca do estado de São Paulo (50 quilos) deve pagar uma multa de R$ 4,00 por quilo excedente. João precisa que você faça um programa que leia a variável peso (peso de peixes) e verifque se há excesso. Se houver, gravar na variável excesso e na variável multa o valor da multa que João deverá pagar. Caso contrário mostrar tais variáveis com o conteúdo ZERO."
   ]
  },
  {
   "cell_type": "code",
   "execution_count": null,
   "metadata": {},
   "outputs": [],
   "source": [
    "peso = input(\"Digite o peso do peixe: \")\n",
    "limite = 50\n",
    "if float(peso) > int(limite):\n",
    "    excesso = float(peso) - int(limite)\n",
    "    multa = float(excesso) * 4\n",
    "    print(\"Voce excedeu o peso limite em:\", excesso)\n",
    "    print(\"A multa a ser paga é de:\", multa)\n",
    "else:\n",
    "    excesso = 0 \n",
    "    multa = o\n",
    "    print(\"Voce não excedeu o limite de peso, e não a a necessidade de pagar multa\")"
   ]
  },
  {
   "cell_type": "markdown",
   "metadata": {},
   "source": [
    "8)Faça um Programa que pergunte quanto você ganha por hora e o número de horas trabalhadas no mês. Calcule e mostre o total do seu salário no referido mês, sabendo-se que são descontados 11% para o Imposto de Renda, 8% para o INSS e 5% para o sindicato, faça um programa que nos dê:\n",
    "\n",
    "salário bruto.\n",
    "quanto pagou ao INSS.\n",
    "quanto pagou ao sindicato.\n",
    "o salário líquido.\n",
    "calcule os descontos e o salário líquido, conforme a tabela abaixo:\n",
    "Salário Bruto : R −IR(11−IR(11 \n",
    "INSS (8%8 : R −Sindicato(5−Sindicato(5  = Salário Liquido : R$ Obs.: Salário Bruto - Descontos = Salário Líquido."
   ]
  },
  {
   "cell_type": "code",
   "execution_count": null,
   "metadata": {},
   "outputs": [],
   "source": [
    "salarioHora = input(\"Digite o valor do seu salario por hora: \")\n",
    "horasTrabalhadas = (\"Digite quantas horas foram trabalhadas no mes\")\n",
    "salarioBruto = float(salarioHora) * float(horasTrabalhadas)\n",
    "descontoInss = (float(salarioBruto)/100) * 8\n",
    "descontoSindicato = (float(salarioBruto)/100) * 5\n",
    "impostoDeRenda = (float(salarioBruto)/100) * 11\n",
    "descontos = descontoInss + descontoSindicato + impostoDeRenda\n",
    "salarioLiquido = float(salarioBruto) - float(descontos)\n",
    "\n",
    "print(\"Detalhes do salario do mes atual foram: \",\n",
    "     \"\\nSalario Bruto: \", salarioBruto,\n",
    "      \"\\nINSS: \", descontoInss,\n",
    "        \"\\nSindicato: \", descontoSindicato,\n",
    "          \"\\nImposto de Renda: \", impostoDeRenda,\n",
    "            \"\\nTotal dos descontos: \", descontos,\n",
    "              \"\\nSalario Liquido: \", salarioLiquido)"
   ]
  },
  {
   "cell_type": "markdown",
   "metadata": {},
   "source": [
    "9)Faça um programa que leia 2 strings e informe o conteúdo delas seguido do seu comprimento. Informe também se as duas strings possuem o mesmo comprimento e são iguais ou diferentes no conteúdo. Exemplo: String 1: Brasil Hexa 2018 String 2: Brasil! Hexa 2018! Tamanho de \"Brasil Hexa 2018\": 16 caracteres Tamanho de \"Brasil! Hexa 2018!\": 18 caracteres As duas strings são de tamanhos diferentes. As duas strings possuem conteúdo diferente."
   ]
  },
  {
   "cell_type": "code",
   "execution_count": null,
   "metadata": {},
   "outputs": [],
   "source": [
    "string_um = input(\"Digite a primeira string \")\n",
    "string_dois = input(\"Digite a segunda string \")\n",
    "if (len(string_um) == len(string_dois)) and (string_um == string_dois):\n",
    "    print(\"\\nTamanho string um: \", len(string_um))\n",
    "    print(\"\\nTamanho string dois: \", len(string_dois))\n",
    "    print(\"\\nConteudo string um: \", string_um)\n",
    "    print(\"\\nConteudo string um: \", string_dois)\n",
    "    print(\"\\nAs strings \", string_um, \"e\", string_dois, \"são iguais em tamanho e conteúdo\")\n",
    "elif (len(string_um) == len(string_dois)) and (string_um != string_dois):\n",
    "    print(\"\\nTamanho string um: \", len(string_um))\n",
    "    print(\"\\nTamanho string dois: \", len(string_dois))\n",
    "    print(\"\\nConteudo string um: \", string_um)\n",
    "    print(\"\\nConteudo string um: \", string_dois)\n",
    "    print(\"\\nO tamanho das strings são iguais, porem o conteúdo é diferente.\")\n",
    "else:\n",
    "    print(\"\\nTamanho string um: \", len(string_um))\n",
    "    print(\"\\nTamanho string dois: \", len(string_dois))\n",
    "    print(\"\\nConteudo string um: \", string_um)\n",
    "    print(\"\\nConteudo string um: \", string_dois)\n",
    "    print(\"\\nAs strings não são iguais em conteudo e tamanho\")"
   ]
  },
  {
   "cell_type": "markdown",
   "metadata": {},
   "source": [
    "10)Faça um programa que permita ao usuário digitar o seu nome e em seguida mostre o nome do usuário de trás para frente utilizando somente letras maiúsculas. Dica: lembre−se que ao informar o nome o usuário pode digitar letras maiúsculas ou minúsculas. Observação: não use loops."
   ]
  },
  {
   "cell_type": "code",
   "execution_count": null,
   "metadata": {},
   "outputs": [],
   "source": [
    "nome = (\"Digite seu nome \")\n",
    "caixaAlta = nome.upper()\n",
    "contrario = caixaAlta[::-1]\n",
    "print(f'o seu nome é: {contrario}')"
   ]
  },
  {
   "cell_type": "markdown",
   "metadata": {},
   "source": [
    "11)Faça um programa que solicite a data de nascimento (dd/mm/aaaa) do usuário e imprima a data com o nome do mês por extenso. Data de Nascimento: 29/10/1973 Você nasceu em 29 de Outubro de 1973. Obs.: Não use desvio condicional nem loops."
   ]
  },
  {
   "cell_type": "code",
   "execution_count": null,
   "metadata": {},
   "outputs": [],
   "source": [
    "dia = input(\"Digite o dia do seu nascimento \")\n",
    "mes = input(\"Digite o mês do seu nascimento \")\n",
    "ano = input(\"Digite o ano do seu nascimento \")\n",
    "lista = ['Meses', 'Janeiro', 'Fevereiro', 'Março', 'Abril', 'Maio', 'Junho', 'Julho', 'Agosto', 'Setembro', 'Outubro', \n",
    "         'Novembro', 'Dezembro']\n",
    "print(\"Você nasceu em\", dia, \"de\", lista[int(mes)], \"de\", ano)"
   ]
  },
  {
   "cell_type": "markdown",
   "metadata": {},
   "source": [
    "12)Leet é uma forma de se escrever o alfabeto latino usando outros símbolos em lugar das letras, como números por exemplo. A própria palavra leet admite muitas variações, como l33t ou 1337. O uso do leet reflete uma subcultura relacionada ao mundo dos jogos de computador e internet, sendo muito usada para confundir os iniciantes e afirmar-se como parte de um grupo. Pesquise sobre as principais formas de traduzir as letras. Depois, faça um programa que peça um texto e transforme-o para a grafa leet speak. Desafio: não use loops nem desvios condicionais."
   ]
  },
  {
   "cell_type": "code",
   "execution_count": null,
   "metadata": {},
   "outputs": [],
   "source": [
    "import string\n",
    "\n",
    "texto = str(input('Seu texto'))\n",
    "\n",
    "print(texto.translate(bytes.maketrans(b'abcfe',b'12345')))"
   ]
  }
 ],
 "metadata": {
  "kernelspec": {
   "display_name": "Python 3",
   "language": "python",
   "name": "python3"
  },
  "language_info": {
   "codemirror_mode": {
    "name": "ipython",
    "version": 3
   },
   "file_extension": ".py",
   "mimetype": "text/x-python",
   "name": "python",
   "nbconvert_exporter": "python",
   "pygments_lexer": "ipython3",
   "version": "3.6.5"
  }
 },
 "nbformat": 4,
 "nbformat_minor": 2
}
